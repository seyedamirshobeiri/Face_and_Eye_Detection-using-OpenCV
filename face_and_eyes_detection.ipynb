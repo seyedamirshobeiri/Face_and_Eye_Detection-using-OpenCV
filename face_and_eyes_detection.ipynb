{
 "cells": [
  {
   "cell_type": "code",
   "execution_count": 8,
   "metadata": {},
   "outputs": [],
   "source": [
    "#import libarary\n",
    "import cv2"
   ]
  },
  {
   "cell_type": "code",
   "execution_count": 9,
   "metadata": {},
   "outputs": [],
   "source": [
    "#capture video by webcam\n",
    "cap=cv2.VideoCapture(0)\n",
    "#We will be using haar cascade classifier to detect faces.\n",
    "face_all=cv2.CascadeClassifier('haarcascade_frontalface_default.xml')\n",
    "left_eye=cv2.CascadeClassifier('haarcascade_lefteye_2splits.xml')\n",
    "right_eye=cv2.CascadeClassifier('haarcascade_righteye_2splits.xml')\n"
   ]
  },
  {
   "cell_type": "code",
   "execution_count": 10,
   "metadata": {},
   "outputs": [],
   "source": [
    "#true loop for continue video\n",
    "while(True):\n",
    "    ret,fram=cap.read()\n",
    "    #active face detection\n",
    "    face=face_all.detectMultiScale(fram,1.3,5)\n",
    "    l_eye=left_eye.detectMultiScale(fram,1.3,5)\n",
    "    r_eye=right_eye.detectMultiScale(fram,1.3,5)\n",
    "    #loop for creat rectangle on face\n",
    "    for(x,y,w,h)in face:\n",
    "        cv2.rectangle(fram,(x,y),(x+w,y+h),(76,0,255),2)\n",
    "    for(x,y,w,h)in l_eye:\n",
    "        cv2.rectangle(fram,(x,y),(x+w,y+h),(255,0,0),2)\n",
    "    for(x,y,w,h)in r_eye:\n",
    "        cv2.rectangle(fram,(x,y),(x+w,y+h),(255,0,0),2)\n",
    "    cv2.namedWindow('frame',cv2.WINDOW_NORMAL)   \n",
    "    cv2.imshow('frame',fram)\n",
    "    if cv2.waitKey(1) & 0xFF == ord('q'):\n",
    "        break\n",
    "#close webcam\n",
    "cap.release()\n",
    "#destroy all of memory\n",
    "cv2.destroyAllWindows()"
   ]
  },
  {
   "cell_type": "code",
   "execution_count": null,
   "metadata": {},
   "outputs": [],
   "source": []
  }
 ],
 "metadata": {
  "kernelspec": {
   "display_name": "Python 3",
   "language": "python",
   "name": "python3"
  },
  "language_info": {
   "codemirror_mode": {
    "name": "ipython",
    "version": 3
   },
   "file_extension": ".py",
   "mimetype": "text/x-python",
   "name": "python",
   "nbconvert_exporter": "python",
   "pygments_lexer": "ipython3",
   "version": "3.8.3"
  }
 },
 "nbformat": 4,
 "nbformat_minor": 4
}
